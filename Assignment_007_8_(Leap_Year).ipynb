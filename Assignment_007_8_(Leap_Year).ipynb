{
  "nbformat": 4,
  "nbformat_minor": 0,
  "metadata": {
    "colab": {
      "name": "Assignment - 007/8 (Leap Year).ipynb",
      "provenance": [],
      "authorship_tag": "ABX9TyPynaZkovbePNSQpKw17MkY",
      "include_colab_link": true
    },
    "kernelspec": {
      "name": "python3",
      "display_name": "Python 3"
    }
  },
  "cells": [
    {
      "cell_type": "markdown",
      "metadata": {
        "id": "view-in-github",
        "colab_type": "text"
      },
      "source": [
        "<a href=\"https://colab.research.google.com/github/Zuby128/python_homeworks/blob/main/Assignment_007_8_(Leap_Year).ipynb\" target=\"_parent\"><img src=\"https://colab.research.google.com/assets/colab-badge.svg\" alt=\"Open In Colab\"/></a>"
      ]
    },
    {
      "cell_type": "code",
      "metadata": {
        "colab": {
          "base_uri": "https://localhost:8080/"
        },
        "id": "uEiaS9LhPySV",
        "outputId": "8bb5aabc-d60e-4b89-8f2c-474fa8f107b1"
      },
      "source": [
        "year = int(input(\"enter year: \"))\r\n",
        "\r\n",
        "if year % 100 == 0 and year % 400 != 0:\r\n",
        "  print(f\"{year} is not a leap year\")\r\n",
        "elif year % 4 == 0 or year % 400 == 0:\r\n",
        "  print(f\"{year} is a leap year\")\r\n",
        "else:\r\n",
        "  print(f\"{year} is not a leap year\")\r\n",
        "\r\n"
      ],
      "execution_count": 8,
      "outputs": [
        {
          "output_type": "stream",
          "text": [
            "enter year: 2500\n",
            "2500 is not a leap year\n"
          ],
          "name": "stdout"
        }
      ]
    }
  ]
}