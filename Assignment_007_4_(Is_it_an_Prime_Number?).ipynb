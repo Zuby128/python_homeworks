{
  "nbformat": 4,
  "nbformat_minor": 0,
  "metadata": {
    "colab": {
      "name": "Assignment - 007/4 (Is it an Prime Number?)",
      "provenance": [],
      "collapsed_sections": [],
      "authorship_tag": "ABX9TyPFQ0LR75kvf8TPoipEzmnE",
      "include_colab_link": true
    },
    "kernelspec": {
      "name": "python3",
      "display_name": "Python 3"
    }
  },
  "cells": [
    {
      "cell_type": "markdown",
      "metadata": {
        "id": "view-in-github",
        "colab_type": "text"
      },
      "source": [
        "<a href=\"https://colab.research.google.com/github/Zuby128/python_homeworks/blob/main/Assignment_007_4_(Is_it_an_Prime_Number%3F).ipynb\" target=\"_parent\"><img src=\"https://colab.research.google.com/assets/colab-badge.svg\" alt=\"Open In Colab\"/></a>"
      ]
    },
    {
      "cell_type": "code",
      "metadata": {
        "colab": {
          "base_uri": "https://localhost:8080/"
        },
        "id": "XRW_Hvu5DhAw",
        "outputId": "2a5831b9-72df-453c-e0b8-5fc1fc27572b"
      },
      "source": [
        "# solution_one\r\n",
        "number = int(input(\"enter an integer: \"))\r\n",
        "while number > 1:\r\n",
        "  A = [i for i in range(2,number) if number % i == 0]\r\n",
        "  if len(A) == 0:\r\n",
        "    print(number, \"is a prime number\")\r\n",
        "    break\r\n",
        "  else:\r\n",
        "    print(number, \"is not a prime number\")\r\n",
        "    break    \r\n",
        "\r\n"
      ],
      "execution_count": null,
      "outputs": [
        {
          "output_type": "stream",
          "text": [
            "enter an integer: 17\n",
            "17 is a prime number\n"
          ],
          "name": "stdout"
        }
      ]
    },
    {
      "cell_type": "code",
      "metadata": {
        "colab": {
          "base_uri": "https://localhost:8080/"
        },
        "id": "2rJQnZ5y-v5w",
        "outputId": "67db1519-4ba6-4355-810a-98fb820c9af5"
      },
      "source": [
        "# solution_two\r\n",
        "number2 = int(input(\"enter an integer: \"))\r\n",
        "for i in range(2, number2):\r\n",
        "  if number2 % i == 0:\r\n",
        "    print(number2, \"is not a prime number\")\r\n",
        "    break\r\n",
        "else:\r\n",
        "  print(number2, \"is a prime number\")\r\n"
      ],
      "execution_count": null,
      "outputs": [
        {
          "output_type": "stream",
          "text": [
            "enter an integer: 17\n",
            "17 is a prime number\n"
          ],
          "name": "stdout"
        }
      ]
    }
  ]
}