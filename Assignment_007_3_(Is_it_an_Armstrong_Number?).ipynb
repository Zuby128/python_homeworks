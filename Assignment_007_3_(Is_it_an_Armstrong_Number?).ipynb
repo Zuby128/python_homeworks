{
  "nbformat": 4,
  "nbformat_minor": 0,
  "metadata": {
    "colab": {
      "name": "Assignment - 007/3 (Is it an Armstrong Number?).ipynb",
      "provenance": [],
      "collapsed_sections": [],
      "authorship_tag": "ABX9TyO35M4zjprnOOJbQR8vx+CX",
      "include_colab_link": true
    },
    "kernelspec": {
      "name": "python3",
      "display_name": "Python 3"
    }
  },
  "cells": [
    {
      "cell_type": "markdown",
      "metadata": {
        "id": "view-in-github",
        "colab_type": "text"
      },
      "source": [
        "<a href=\"https://colab.research.google.com/github/Zuby128/python_homeworks/blob/main/Assignment_007_3_(Is_it_an_Armstrong_Number%3F).ipynb\" target=\"_parent\"><img src=\"https://colab.research.google.com/assets/colab-badge.svg\" alt=\"Open In Colab\"/></a>"
      ]
    },
    {
      "cell_type": "code",
      "metadata": {
        "colab": {
          "base_uri": "https://localhost:8080/"
        },
        "id": "EbPf8jbhW0rG",
        "outputId": "c820dc89-8fa3-44d9-9c1a-c954b085dd08"
      },
      "source": [
        "\r\n",
        "arms_num = 0\r\n",
        "while True:\r\n",
        "  num = input(\"enter an integer: \")\r\n",
        "  if num.isdigit():\r\n",
        "    for i in num:\r\n",
        "      arms_num += int(i)**len(num)\r\n",
        "    if arms_num == int(num):\r\n",
        "      print(num, \"is an Armstrong number\")\r\n",
        "      break\r\n",
        "    else:\r\n",
        "      print(num, \"is not an Armstrong number\")\r\n",
        "      break\r\n",
        "  else:\r\n",
        "    print(\"It is an invalid entry. Don't use non-numeric, float, or negative values!\")"
      ],
      "execution_count": 30,
      "outputs": [
        {
          "output_type": "stream",
          "text": [
            "enter an integer: 407\n",
            "407 is an Armstrong number\n"
          ],
          "name": "stdout"
        }
      ]
    },
    {
      "cell_type": "code",
      "metadata": {
        "id": "UeEaZYvBX9A_"
      },
      "source": [
        ""
      ],
      "execution_count": null,
      "outputs": []
    }
  ]
}