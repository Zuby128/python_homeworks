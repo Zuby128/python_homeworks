{
  "nbformat": 4,
  "nbformat_minor": 0,
  "metadata": {
    "colab": {
      "name": "Assignment - 007/3 (Is it an Armstrong Number?).ipynb",
      "provenance": [],
      "collapsed_sections": [],
      "authorship_tag": "ABX9TyORwzPgDm9hUN6s1XWF999i",
      "include_colab_link": true
    },
    "kernelspec": {
      "name": "python3",
      "display_name": "Python 3"
    }
  },
  "cells": [
    {
      "cell_type": "markdown",
      "metadata": {
        "id": "view-in-github",
        "colab_type": "text"
      },
      "source": [
        "<a href=\"https://colab.research.google.com/github/Zuby128/python_homeworks/blob/main/Assignment_007_3_(Is_it_an_Armstrong_Number%3F).ipynb\" target=\"_parent\"><img src=\"https://colab.research.google.com/assets/colab-badge.svg\" alt=\"Open In Colab\"/></a>"
      ]
    },
    {
      "cell_type": "code",
      "metadata": {
        "colab": {
          "base_uri": "https://localhost:8080/"
        },
        "id": "EbPf8jbhW0rG",
        "outputId": "349b5e77-efa3-4c22-f3d7-3bfb95111cb6"
      },
      "source": [
        "\r\n",
        "arms_num = 0\r\n",
        "while True:\r\n",
        "  num = input(\"enter an integer: \")\r\n",
        "  if not num.isdigit():\r\n",
        "    print(\"It is an invalid entry. Don't use non-numeric, float, or negative values!\")\r\n",
        "  else:\r\n",
        "    for i in num:\r\n",
        "      arms_num += int(i)**len(num)\r\n",
        "    if arms_num == int(num):\r\n",
        "      print(num, \"is an Armstrong number\")\r\n",
        "      break\r\n",
        "    else:\r\n",
        "      print(num, \"is not an Armstrong number\")\r\n",
        "      break"
      ],
      "execution_count": 32,
      "outputs": [
        {
          "output_type": "stream",
          "text": [
            "enter an integer: ss\n",
            "It is an invalid entry. Don't use non-numeric, float, or negative values!\n",
            "enter an integer: 14,4\n",
            "It is an invalid entry. Don't use non-numeric, float, or negative values!\n",
            "enter an integer: 14.5\n",
            "It is an invalid entry. Don't use non-numeric, float, or negative values!\n",
            "enter an integer: 407\n",
            "407 is an Armstrong number\n"
          ],
          "name": "stdout"
        }
      ]
    },
    {
      "cell_type": "code",
      "metadata": {
        "id": "UeEaZYvBX9A_"
      },
      "source": [
        ""
      ],
      "execution_count": null,
      "outputs": []
    }
  ]
}