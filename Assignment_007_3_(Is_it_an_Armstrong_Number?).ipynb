{
  "nbformat": 4,
  "nbformat_minor": 0,
  "metadata": {
    "colab": {
      "name": "Assignment - 007/3 (Is it an Armstrong Number?).ipynb",
      "provenance": [],
      "authorship_tag": "ABX9TyPpweT6ef3PujowqO/nJfAv",
      "include_colab_link": true
    },
    "kernelspec": {
      "name": "python3",
      "display_name": "Python 3"
    }
  },
  "cells": [
    {
      "cell_type": "markdown",
      "metadata": {
        "id": "view-in-github",
        "colab_type": "text"
      },
      "source": [
        "<a href=\"https://colab.research.google.com/github/Zuby128/python_homeworks/blob/main/Assignment_007_3_(Is_it_an_Armstrong_Number%3F).ipynb\" target=\"_parent\"><img src=\"https://colab.research.google.com/assets/colab-badge.svg\" alt=\"Open In Colab\"/></a>"
      ]
    },
    {
      "cell_type": "code",
      "metadata": {
        "colab": {
          "base_uri": "https://localhost:8080/"
        },
        "id": "EbPf8jbhW0rG",
        "outputId": "beba01b3-d0de-40db-b60d-1ad4e40970d1"
      },
      "source": [
        "number=int(input(\"please enter number: \"))\r\n",
        "arms_num = 0\r\n",
        "for i in str(number):\r\n",
        "  arms_num += int(i)**len(str(number))\r\n",
        "if arms_num == number:\r\n",
        "  print(f\"{number} is an Armstrong Number\")\r\n",
        "else: \r\n",
        "  print(\"please try another number\")"
      ],
      "execution_count": 10,
      "outputs": [
        {
          "output_type": "stream",
          "text": [
            "please enter number: 371\n",
            "371 is an Armstrong Number\n"
          ],
          "name": "stdout"
        }
      ]
    },
    {
      "cell_type": "code",
      "metadata": {
        "id": "UeEaZYvBX9A_"
      },
      "source": [
        ""
      ],
      "execution_count": null,
      "outputs": []
    }
  ]
}