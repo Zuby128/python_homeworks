{
  "nbformat": 4,
  "nbformat_minor": 0,
  "metadata": {
    "colab": {
      "name": "Assignment - 007/10 (Sudoku Displayer).ipynb",
      "provenance": [],
      "authorship_tag": "ABX9TyNlHusgTnMZ6kg6w0vU1wdM",
      "include_colab_link": true
    },
    "kernelspec": {
      "name": "python3",
      "display_name": "Python 3"
    }
  },
  "cells": [
    {
      "cell_type": "markdown",
      "metadata": {
        "id": "view-in-github",
        "colab_type": "text"
      },
      "source": [
        "<a href=\"https://colab.research.google.com/github/Zuby128/python_homeworks/blob/main/Assignment_007_10_(Sudoku_Displayer).ipynb\" target=\"_parent\"><img src=\"https://colab.research.google.com/assets/colab-badge.svg\" alt=\"Open In Colab\"/></a>"
      ]
    },
    {
      "cell_type": "code",
      "metadata": {
        "id": "Oido2pcj_wM0"
      },
      "source": [
        "sudoku = [\r\n",
        "    [0, 0, 0, 0, 6, 4, 0, 0, 0],\r\n",
        "    [7, 0, 0, 0, 0, 0, 3, 9, 0],\r\n",
        "    [8, 0, 0, 0, 0, 0, 0, 0, 0],\r\n",
        "    [0, 0, 0, 5, 0, 2, 0, 6, 0],\r\n",
        "    [0, 8, 0, 4, 0, 0, 0, 0, 0],\r\n",
        "    [3, 5, 0, 6, 0, 0, 0, 7, 0],\r\n",
        "    [0, 0, 2, 0, 0, 0, 1, 0, 3],\r\n",
        "    [0, 0, 1, 0, 5, 9, 0, 0, 0],\r\n",
        "    [0, 0, 0, 0, 0, 0, 7, 0, 0]\r\n",
        "]"
      ],
      "execution_count": 8,
      "outputs": []
    },
    {
      "cell_type": "code",
      "metadata": {
        "colab": {
          "base_uri": "https://localhost:8080/"
        },
        "id": "39DMLvS1_2YV",
        "outputId": "812bf634-801f-49fa-b9df-5d29415998e2"
      },
      "source": [
        "while len(sudoku)<10:\r\n",
        "  print(\"- - - - - - - - - - - - - - - -\")\r\n",
        "  for line in sudoku[:3]:\r\n",
        "    b=[f\"{i}\" for i in line]\r\n",
        "    print(\"  \".join(b[:3]) + \"  |  \" + \"  \".join(b[3:6]) + \"  |  \" + \"  \".join(b[6:])) \r\n",
        "  print(\"- - - - - - - - - - - - - - - -\")\r\n",
        "  for line in sudoku[3:6]:\r\n",
        "    b=[f\"{i}\" for i in line]\r\n",
        "    print(\"  \".join(b[:3]) + \"  |  \" + \"  \".join(b[3:6]) + \"  |  \" + \"  \".join(b[6:]))\r\n",
        "  print(\"- - - - - - - - - - - - - - - -\")\r\n",
        "  for line in sudoku[6:]:\r\n",
        "    b=[f\"{i}\" for i in line]\r\n",
        "    print(\"  \".join(b[:3]) + \"  |  \" + \"  \".join(b[3:6]) + \"  |  \" + \"  \".join(b[6:]))\r\n",
        "  print(\"- - - - - - - - - - - - - - - -\")\r\n",
        "  break"
      ],
      "execution_count": 9,
      "outputs": [
        {
          "output_type": "stream",
          "text": [
            "- - - - - - - - - - - - - - - -\n",
            "0  0  0  |  0  6  4  |  0  0  0\n",
            "7  0  0  |  0  0  0  |  3  9  0\n",
            "8  0  0  |  0  0  0  |  0  0  0\n",
            "- - - - - - - - - - - - - - - -\n",
            "0  0  0  |  5  0  2  |  0  6  0\n",
            "0  8  0  |  4  0  0  |  0  0  0\n",
            "3  5  0  |  6  0  0  |  0  7  0\n",
            "- - - - - - - - - - - - - - - -\n",
            "0  0  2  |  0  0  0  |  1  0  3\n",
            "0  0  1  |  0  5  9  |  0  0  0\n",
            "0  0  0  |  0  0  0  |  7  0  0\n",
            "- - - - - - - - - - - - - - - -\n"
          ],
          "name": "stdout"
        }
      ]
    },
    {
      "cell_type": "code",
      "metadata": {
        "id": "xCi0hcb__7K_"
      },
      "source": [
        ""
      ],
      "execution_count": null,
      "outputs": []
    }
  ]
}