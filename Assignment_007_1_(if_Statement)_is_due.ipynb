{
  "nbformat": 4,
  "nbformat_minor": 0,
  "metadata": {
    "colab": {
      "name": "Assignment - 007/1 (if-Statement) is due.ipynb",
      "provenance": [],
      "authorship_tag": "ABX9TyN8Ua+3X9a6BLR281RYq0Ey",
      "include_colab_link": true
    },
    "kernelspec": {
      "name": "python3",
      "display_name": "Python 3"
    }
  },
  "cells": [
    {
      "cell_type": "markdown",
      "metadata": {
        "id": "view-in-github",
        "colab_type": "text"
      },
      "source": [
        "<a href=\"https://colab.research.google.com/github/Zuby128/python_homeworks/blob/main/Assignment_007_1_(if_Statement)_is_due.ipynb\" target=\"_parent\"><img src=\"https://colab.research.google.com/assets/colab-badge.svg\" alt=\"Open In Colab\"/></a>"
      ]
    },
    {
      "cell_type": "code",
      "metadata": {
        "colab": {
          "base_uri": "https://localhost:8080/"
        },
        "id": "bkUHOeTQU4Cy",
        "outputId": "2006a3ed-59b2-4b34-a9c0-40d541bc4ad6"
      },
      "source": [
        "name = input(\"enter your name: \")\r\n",
        "sys_name = \"clarusway\"\r\n",
        "super_secured_password = 123456\r\n",
        "if name == sys_name:\r\n",
        "  print(f\"Hello, {name}! The password is: {super_secured_password}\")\r\n",
        "else:\r\n",
        "  print(f\"Hello, {name}! See you later.\")\r\n"
      ],
      "execution_count": 3,
      "outputs": [
        {
          "output_type": "stream",
          "text": [
            "enter your name: clarusway\n",
            "Hello, clarusway! The password is: 123456\n"
          ],
          "name": "stdout"
        }
      ]
    },
    {
      "cell_type": "code",
      "metadata": {
        "id": "TEJI2MQ4V4a6"
      },
      "source": [
        ""
      ],
      "execution_count": null,
      "outputs": []
    }
  ]
}