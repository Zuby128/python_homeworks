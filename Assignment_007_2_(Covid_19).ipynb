{
  "nbformat": 4,
  "nbformat_minor": 0,
  "metadata": {
    "colab": {
      "name": "Assignment - 007/2 (Covid-19).ipynb",
      "provenance": [],
      "collapsed_sections": [],
      "authorship_tag": "ABX9TyPqOVBkw9ElmIxTGEMrLrR5",
      "include_colab_link": true
    },
    "kernelspec": {
      "name": "python3",
      "display_name": "Python 3"
    }
  },
  "cells": [
    {
      "cell_type": "markdown",
      "metadata": {
        "id": "view-in-github",
        "colab_type": "text"
      },
      "source": [
        "<a href=\"https://colab.research.google.com/github/Zuby128/python_homeworks/blob/main/Assignment_007_2_(Covid_19).ipynb\" target=\"_parent\"><img src=\"https://colab.research.google.com/assets/colab-badge.svg\" alt=\"Open In Colab\"/></a>"
      ]
    },
    {
      "cell_type": "code",
      "metadata": {
        "colab": {
          "base_uri": "https://localhost:8080/"
        },
        "id": "d_xwhhWAWuQh",
        "outputId": "1b7c6c17-7233-4940-e24f-a4b42af57b6a"
      },
      "source": [
        "print(\"answer these questions using 'Yes' or 'No'\")\r\n",
        "print(\"*********************\")\r\n",
        "age = input(\"Are you a cigarette addict older than 75 years old?: \").title().split()\r\n",
        "chronic = input(\"Do you have a severe chronic disease?: \").title().split()\r\n",
        "immune = input(\"Is your immune system too weak?\").title().split()\r\n",
        "risk = age[0] or chronic[0] or immune[0]\r\n",
        "if risk == \"Yes\":\r\n",
        "  print(\"You are in risky group\")\r\n",
        "else:\r\n",
        "  print(\"You are not in risky group\")"
      ],
      "execution_count": 14,
      "outputs": [
        {
          "output_type": "stream",
          "text": [
            "answer these questions using 'Yes' or 'No'\n",
            "*********************\n",
            "Are you a cigarette addict older than 75 years old?: no\n",
            "Do you have a severe chronic disease?: no\n",
            "Is your immune system too weak?no\n",
            "You are not in risky group\n"
          ],
          "name": "stdout"
        }
      ]
    },
    {
      "cell_type": "code",
      "metadata": {
        "id": "IINICLkNXaUS"
      },
      "source": [
        ""
      ],
      "execution_count": 10,
      "outputs": []
    }
  ]
}