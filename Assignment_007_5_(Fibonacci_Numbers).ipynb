{
  "nbformat": 4,
  "nbformat_minor": 0,
  "metadata": {
    "colab": {
      "name": "Assignment - 007/5 (Fibonacci Numbers).ipynb",
      "provenance": [],
      "authorship_tag": "ABX9TyOvsQezhFjRzltKOswqMdon",
      "include_colab_link": true
    },
    "kernelspec": {
      "name": "python3",
      "display_name": "Python 3"
    }
  },
  "cells": [
    {
      "cell_type": "markdown",
      "metadata": {
        "id": "view-in-github",
        "colab_type": "text"
      },
      "source": [
        "<a href=\"https://colab.research.google.com/github/Zuby128/python_homeworks/blob/main/Assignment_007_5_(Fibonacci_Numbers).ipynb\" target=\"_parent\"><img src=\"https://colab.research.google.com/assets/colab-badge.svg\" alt=\"Open In Colab\"/></a>"
      ]
    },
    {
      "cell_type": "code",
      "metadata": {
        "id": "uv49TsJ7QRVl",
        "colab": {
          "base_uri": "https://localhost:8080/"
        },
        "outputId": "7b1c92f5-9c07-4f39-e043-4cfde5e00307"
      },
      "source": [
        "fibonacci_nums = []\r\n",
        "a = 0\r\n",
        "b = 1\r\n",
        "while a < 55:\r\n",
        "  a, b = b, (a + b)\r\n",
        "  fibonacci_nums.append(a)\r\n",
        "\r\n",
        "print(fibonacci_nums)"
      ],
      "execution_count": 7,
      "outputs": [
        {
          "output_type": "stream",
          "text": [
            "[1, 1, 2, 3, 5, 8, 13, 21, 34, 55]\n"
          ],
          "name": "stdout"
        }
      ]
    },
    {
      "cell_type": "code",
      "metadata": {
        "id": "hXE9Oj6h8qAf"
      },
      "source": [
        ""
      ],
      "execution_count": null,
      "outputs": []
    }
  ]
}