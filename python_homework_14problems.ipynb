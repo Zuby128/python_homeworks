{
  "nbformat": 4,
  "nbformat_minor": 0,
  "metadata": {
    "colab": {
      "name": "python_homework_14problems.ipynb",
      "provenance": [],
      "collapsed_sections": [],
      "authorship_tag": "ABX9TyOpJBf74KHZVJuLM/zLfOk6",
      "include_colab_link": true
    },
    "kernelspec": {
      "name": "python3",
      "display_name": "Python 3"
    }
  },
  "cells": [
    {
      "cell_type": "markdown",
      "metadata": {
        "id": "view-in-github",
        "colab_type": "text"
      },
      "source": [
        "<a href=\"https://colab.research.google.com/github/Zuby128/python_homeworks/blob/main/python_homework_14problems.ipynb\" target=\"_parent\"><img src=\"https://colab.research.google.com/assets/colab-badge.svg\" alt=\"Open In Colab\"/></a>"
      ]
    },
    {
      "cell_type": "code",
      "metadata": {
        "colab": {
          "base_uri": "https://localhost:8080/"
        },
        "id": "XEcnYod4rmDr",
        "outputId": "ef07203e-b538-4ce9-f6f5-1bca6329b09f"
      },
      "source": [
        "\"45\".isdigit()"
      ],
      "execution_count": null,
      "outputs": [
        {
          "output_type": "execute_result",
          "data": {
            "text/plain": [
              "True"
            ]
          },
          "metadata": {
            "tags": []
          },
          "execution_count": 11
        }
      ]
    },
    {
      "cell_type": "code",
      "metadata": {
        "colab": {
          "base_uri": "https://localhost:8080/"
        },
        "id": "ytMfslF-HZw9",
        "outputId": "0dac062f-e028-4598-de28-f406d1ead604"
      },
      "source": [
        "# problem_1\r\n",
        "num_1 = float(input(\"enter num1: \"))\r\n",
        "num_2 = float(input(\"enter num2: \"))\r\n",
        "num_3 = float(input(\"enter num3: \"))\r\n",
        "print(f\"{num_1} X {num_2} X {num_3} = {num_1*num_2*num_3}\")"
      ],
      "execution_count": 1,
      "outputs": [
        {
          "output_type": "stream",
          "text": [
            "enter num1: 5\n",
            "enter num2: 66\n",
            "enter num3: 5\n",
            "5.0 X 66.0 X 5.0 = 1650.0\n"
          ],
          "name": "stdout"
        }
      ]
    },
    {
      "cell_type": "code",
      "metadata": {
        "colab": {
          "base_uri": "https://localhost:8080/"
        },
        "id": "K7rfjS4ZYLEn",
        "outputId": "ff4712be-ccfa-4482-ceda-00eef22613e7"
      },
      "source": [
        "# problem_2\r\n",
        "weight = float(input(\"enter weight by kilogram: \"))\r\n",
        "height = float(input(\"enter height by meter: \"))\r\n",
        "print(f\"Body mass index: {weight/(weight*height):.3f}\")\r\n"
      ],
      "execution_count": 2,
      "outputs": [
        {
          "output_type": "stream",
          "text": [
            "enter weight by kilogram: 75\n",
            "enter height by meter: 1.75\n",
            "Body mass index: 0.571\n"
          ],
          "name": "stdout"
        }
      ]
    },
    {
      "cell_type": "code",
      "metadata": {
        "id": "kPe7kL2QZNwz",
        "colab": {
          "base_uri": "https://localhost:8080/"
        },
        "outputId": "4355d0e3-517a-4f41-907f-b61892949ddb"
      },
      "source": [
        "# problem_3\r\n",
        "bought_items = int(200 / 11)\r\n",
        "money_left = 200 % 11\r\n",
        "print(f\"can buy {bought_items} items, $ {money_left} left\") "
      ],
      "execution_count": 3,
      "outputs": [
        {
          "output_type": "stream",
          "text": [
            "can buy 18 items, $ 2 left\n"
          ],
          "name": "stdout"
        }
      ]
    },
    {
      "cell_type": "code",
      "metadata": {
        "colab": {
          "base_uri": "https://localhost:8080/"
        },
        "id": "FoVKQXnATDJf",
        "outputId": "1aa0ea29-3abf-4083-e48b-8546254d7eb0"
      },
      "source": [
        "# problem_4\r\n",
        "var_one = float(input(\"number one: \"))\r\n",
        "var_two = float(input(\"number two: \"))\r\n",
        "var_one, var_two = var_two, var_one\r\n",
        "print(f\"var_one: {var_one}, var_two: {var_two}\")"
      ],
      "execution_count": 5,
      "outputs": [
        {
          "output_type": "stream",
          "text": [
            "number one: 5\n",
            "number two: 4\n",
            "var_one: 4.0, var_two: 5.0\n"
          ],
          "name": "stdout"
        }
      ]
    },
    {
      "cell_type": "code",
      "metadata": {
        "colab": {
          "base_uri": "https://localhost:8080/"
        },
        "id": "LmyS5Ak5TG09",
        "outputId": "a7b79275-49c7-48f3-c771-c510d5bad688"
      },
      "source": [
        "# problem_5\r\n",
        "x = float(input(\"enter number for x: \"))\r\n",
        "y = float(input(\"enter number for y: \"))\r\n",
        "print(f\"(x - y) * (x + y) = {(x - y) * (x + y):.2f}\")"
      ],
      "execution_count": 6,
      "outputs": [
        {
          "output_type": "stream",
          "text": [
            "enter number for x: 5\n",
            "enter number for y: 5\n",
            "(x - y) * (x + y) = 0.00\n"
          ],
          "name": "stdout"
        }
      ]
    },
    {
      "cell_type": "code",
      "metadata": {
        "colab": {
          "base_uri": "https://localhost:8080/"
        },
        "id": "9DqBXRUrTfKD",
        "outputId": "3bd25a06-2ff1-41a1-8c40-9a72a91824bb"
      },
      "source": [
        "# problem_6\r\n",
        "word = input(\"enter word: \")\r\n",
        "sep = input(\"enter sep: \")\r\n",
        "repetition = int(input(\"enter repetition number: \"))\r\n",
        "word = [word] * repetition\r\n",
        "print(*word, sep = f\"{sep}\")"
      ],
      "execution_count": 7,
      "outputs": [
        {
          "output_type": "stream",
          "text": [
            "enter word: ali\n",
            "enter sep: /\n",
            "enter repetition number: 3\n",
            "ali/ali/ali\n"
          ],
          "name": "stdout"
        }
      ]
    },
    {
      "cell_type": "code",
      "metadata": {
        "colab": {
          "base_uri": "https://localhost:8080/"
        },
        "id": "RG_5BJ1aTi-4",
        "outputId": "b894cb64-2afc-45bd-bbef-8a4e19df2beb"
      },
      "source": [
        "# problem_7\r\n",
        "word = input(\"enter word: \")\r\n",
        "number = int(input(\"enter number: \"))\r\n",
        "print(word[-number:]*number)"
      ],
      "execution_count": 8,
      "outputs": [
        {
          "output_type": "stream",
          "text": [
            "enter word: clarusway\n",
            "enter number: 5\n",
            "uswayuswayuswayuswayusway\n"
          ],
          "name": "stdout"
        }
      ]
    },
    {
      "cell_type": "code",
      "metadata": {
        "colab": {
          "base_uri": "https://localhost:8080/"
        },
        "id": "0cdP9UYNTrV5",
        "outputId": "32e29934-59aa-433d-fb59-9527aae18200"
      },
      "source": [
        "# problem_8\r\n",
        "number = int(input(\"enter number: \"))\r\n",
        "if (number % 3 == 0) and (number % 5 != 0):\r\n",
        "    print(\"Clarus\")\r\n",
        "elif (number % 5 == 0) and (number % 3 != 0):\r\n",
        "    print(\"way\")\r\n",
        "elif (number % 5 == 0) and (number % 3 == 0):\r\n",
        "    print(\"Clarusway\")\r\n",
        "else:\r\n",
        "    print(number)"
      ],
      "execution_count": 9,
      "outputs": [
        {
          "output_type": "stream",
          "text": [
            "enter number: 6\n",
            "Clarus\n"
          ],
          "name": "stdout"
        }
      ]
    },
    {
      "cell_type": "code",
      "metadata": {
        "colab": {
          "base_uri": "https://localhost:8080/"
        },
        "id": "oeTkztryTw-_",
        "outputId": "af23f483-66b8-4c48-a50f-5dcd37616455"
      },
      "source": [
        "# problem_9\r\n",
        "letters = \"abclarusxyz\"\r\n",
        "print(letters[2:-3])\r\n",
        "print(letters[0:3][::-1])\r\n",
        "print(letters[-8:][::-1])"
      ],
      "execution_count": 10,
      "outputs": [
        {
          "output_type": "stream",
          "text": [
            "clarus\n",
            "cba\n",
            "zyxsural\n"
          ],
          "name": "stdout"
        }
      ]
    },
    {
      "cell_type": "code",
      "metadata": {
        "colab": {
          "base_uri": "https://localhost:8080/"
        },
        "id": "wFgMviMPT1YG",
        "outputId": "0c12e64c-3bcb-43af-9ad0-ed09bfb50c2b"
      },
      "source": [
        "# problem_10\r\n",
        "rand_list = [1,[1, 2, \"Clarus\", [2, \"way\"]], \" is the best\"]\r\n",
        "print(rand_list[1][2] + rand_list[1][3][1] + rand_list[2])"
      ],
      "execution_count": 11,
      "outputs": [
        {
          "output_type": "stream",
          "text": [
            "Clarusway is the best\n"
          ],
          "name": "stdout"
        }
      ]
    },
    {
      "cell_type": "code",
      "metadata": {
        "colab": {
          "base_uri": "https://localhost:8080/"
        },
        "id": "sZh2n2LjT4bA",
        "outputId": "60c9b6f2-1a93-4ac2-ea30-9fd9e98021a6"
      },
      "source": [
        "# problem_11\r\n",
        "num_list = [2, 3, 1, 5, 6, 4, 9, 8, 10]\r\n",
        "num_list=set(sorted(num_list))\r\n",
        "missing_num = set(range(1, 11)).difference(num_list)\r\n",
        "print(f\"missing number is {missing_num}\")"
      ],
      "execution_count": 12,
      "outputs": [
        {
          "output_type": "stream",
          "text": [
            "missing number is {7}\n"
          ],
          "name": "stdout"
        }
      ]
    },
    {
      "cell_type": "code",
      "metadata": {
        "colab": {
          "base_uri": "https://localhost:8080/"
        },
        "id": "Mj_mVEOrT74w",
        "outputId": "671e2142-1203-46d7-cdb8-76bc7012800c"
      },
      "source": [
        "# problem_12\r\n",
        "old = { \"Emma\": 71, \"Jack\": 45, \"Amy\": 15, \"Ben\": 29 }\r\n",
        "biggest_age = sorted(old.values(), reverse=True)\r\n",
        "for name, age in old.items():\r\n",
        "  if (biggest_age[0] == age):\r\n",
        "    print(name)"
      ],
      "execution_count": 13,
      "outputs": [
        {
          "output_type": "stream",
          "text": [
            "Emma\n"
          ],
          "name": "stdout"
        }
      ]
    },
    {
      "cell_type": "code",
      "metadata": {
        "colab": {
          "base_uri": "https://localhost:8080/"
        },
        "id": "ZgCj1UnqT-4I",
        "outputId": "134ae677-42e7-4c66-bde1-719606f7f7d2"
      },
      "source": [
        "# Problem 13\r\n",
        "my_dict = {'data1':100,'data2':-54,'data3':247}\r\n",
        "total_keys = []\r\n",
        "num_total = 0\r\n",
        "for key, num in my_dict.items():\r\n",
        "  total_keys.append(key)\r\n",
        "  num_total += num\r\n",
        "print(f\"{'+'.join(total_keys)} = {num_total}\")"
      ],
      "execution_count": 14,
      "outputs": [
        {
          "output_type": "stream",
          "text": [
            "data1+data2+data3 = 293\n"
          ],
          "name": "stdout"
        }
      ]
    },
    {
      "cell_type": "code",
      "metadata": {
        "colab": {
          "base_uri": "https://localhost:8080/"
        },
        "id": "R4HiW4AKUHIF",
        "outputId": "5e231c5d-d72c-46e7-c414-89b9c5540e73"
      },
      "source": [
        "# Problem 14\r\n",
        "nums1 = [1, 1, 3, 4, 4, 5, 6, 7] \r\n",
        "nums2 = [0, 1, 2, 3, 4, 4, 5, 7, 8]\r\n",
        "length = len(nums1) + len(nums2) \r\n",
        "total = sum(nums1+nums2)\r\n",
        "print(f\"{total/length:.3f}\")"
      ],
      "execution_count": 15,
      "outputs": [
        {
          "output_type": "stream",
          "text": [
            "3.824\n"
          ],
          "name": "stdout"
        }
      ]
    },
    {
      "cell_type": "code",
      "metadata": {
        "id": "RE-AddwcUONm"
      },
      "source": [
        ""
      ],
      "execution_count": null,
      "outputs": []
    }
  ]
}