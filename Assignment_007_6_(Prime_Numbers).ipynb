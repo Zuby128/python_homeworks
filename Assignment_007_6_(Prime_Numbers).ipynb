{
  "nbformat": 4,
  "nbformat_minor": 0,
  "metadata": {
    "colab": {
      "name": "Assignment - 007/6 (Prime Numbers).ipynb",
      "provenance": [],
      "authorship_tag": "ABX9TyM3ow1jI8motoSTh0+OxpjY",
      "include_colab_link": true
    },
    "kernelspec": {
      "name": "python3",
      "display_name": "Python 3"
    }
  },
  "cells": [
    {
      "cell_type": "markdown",
      "metadata": {
        "id": "view-in-github",
        "colab_type": "text"
      },
      "source": [
        "<a href=\"https://colab.research.google.com/github/Zuby128/python_homeworks/blob/main/Assignment_007_6_(Prime_Numbers).ipynb\" target=\"_parent\"><img src=\"https://colab.research.google.com/assets/colab-badge.svg\" alt=\"Open In Colab\"/></a>"
      ]
    },
    {
      "cell_type": "code",
      "metadata": {
        "colab": {
          "base_uri": "https://localhost:8080/"
        },
        "id": "zMh71SaIW9GS",
        "outputId": "418b2e6a-55e1-4fae-87b2-01c999b5ccd8"
      },
      "source": [
        "prime_num_list = []\r\n",
        "\r\n",
        "for i in range(2,100):\r\n",
        "  for j in range(2,i):\r\n",
        "    if i % j == 0:\r\n",
        "      break\r\n",
        "  else:\r\n",
        "    prime_num_list.append(i)\r\n",
        "\r\n",
        "print(prime_num_list)"
      ],
      "execution_count": 4,
      "outputs": [
        {
          "output_type": "stream",
          "text": [
            "[2, 3, 5, 7, 11, 13, 17, 19, 23, 29, 31, 37, 41, 43, 47, 53, 59, 61, 67, 71, 73, 79, 83, 89, 97]\n"
          ],
          "name": "stdout"
        }
      ]
    }
  ]
}